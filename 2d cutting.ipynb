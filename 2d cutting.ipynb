{
  "nbformat": 4,
  "nbformat_minor": 0,
  "metadata": {
    "colab": {
      "provenance": []
    },
    "kernelspec": {
      "name": "python3",
      "display_name": "Python 3"
    },
    "language_info": {
      "name": "python"
    }
  },
  "cells": [
    {
      "cell_type": "code",
      "source": [
        "!pip install pandas\n",
        "!pip install ezdxf\n",
        "!pip install rectpack"
      ],
      "metadata": {
        "colab": {
          "base_uri": "https://localhost:8080/"
        },
        "id": "sSonMxeXakUH",
        "outputId": "bfe9a77f-210f-456c-d969-490ba62a38a8"
      },
      "execution_count": null,
      "outputs": [
        {
          "output_type": "stream",
          "name": "stdout",
          "text": [
            "Looking in indexes: https://pypi.org/simple, https://us-python.pkg.dev/colab-wheels/public/simple/\n",
            "Requirement already satisfied: pandas in /usr/local/lib/python3.10/dist-packages (1.5.3)\n",
            "Requirement already satisfied: python-dateutil>=2.8.1 in /usr/local/lib/python3.10/dist-packages (from pandas) (2.8.2)\n",
            "Requirement already satisfied: pytz>=2020.1 in /usr/local/lib/python3.10/dist-packages (from pandas) (2022.7.1)\n",
            "Requirement already satisfied: numpy>=1.21.0 in /usr/local/lib/python3.10/dist-packages (from pandas) (1.22.4)\n",
            "Requirement already satisfied: six>=1.5 in /usr/local/lib/python3.10/dist-packages (from python-dateutil>=2.8.1->pandas) (1.16.0)\n",
            "Looking in indexes: https://pypi.org/simple, https://us-python.pkg.dev/colab-wheels/public/simple/\n",
            "Collecting ezdxf\n",
            "  Downloading ezdxf-1.0.3-cp310-cp310-manylinux_2_17_x86_64.manylinux2014_x86_64.whl (3.1 MB)\n",
            "\u001b[2K     \u001b[90m━━━━━━━━━━━━━━━━━━━━━━━━━━━━━━━━━━━━━━━━\u001b[0m \u001b[32m3.1/3.1 MB\u001b[0m \u001b[31m21.2 MB/s\u001b[0m eta \u001b[36m0:00:00\u001b[0m\n",
            "\u001b[?25hRequirement already satisfied: pyparsing>=2.0.1 in /usr/local/lib/python3.10/dist-packages (from ezdxf) (3.1.0)\n",
            "Requirement already satisfied: typing-extensions in /usr/local/lib/python3.10/dist-packages (from ezdxf) (4.6.3)\n",
            "Installing collected packages: ezdxf\n",
            "Successfully installed ezdxf-1.0.3\n",
            "Looking in indexes: https://pypi.org/simple, https://us-python.pkg.dev/colab-wheels/public/simple/\n",
            "Collecting rectpack\n",
            "  Downloading rectpack-0.2.2.tar.gz (17 kB)\n",
            "  Preparing metadata (setup.py) ... \u001b[?25l\u001b[?25hdone\n",
            "Building wheels for collected packages: rectpack\n",
            "  Building wheel for rectpack (setup.py) ... \u001b[?25l\u001b[?25hdone\n",
            "  Created wheel for rectpack: filename=rectpack-0.2.2-py3-none-any.whl size=19333 sha256=1f051c1e7e9911357e2f4e735f522c81a57151b4efe49f02750c213c932b97ff\n",
            "  Stored in directory: /root/.cache/pip/wheels/e9/ea/e9/cd0237c0ccb9cb7312bb94cc023689592c4f07e4f3b1b9dd00\n",
            "Successfully built rectpack\n",
            "Installing collected packages: rectpack\n",
            "Successfully installed rectpack-0.2.2\n"
          ]
        }
      ]
    },
    {
      "cell_type": "code",
      "source": [
        "from rectpack import newPacker\n",
        "import pandas as pd\n",
        "import math\n",
        "import ezdxf\n"
      ],
      "metadata": {
        "id": "KqM5xTh1-dlI"
      },
      "execution_count": null,
      "outputs": []
    },
    {
      "cell_type": "code",
      "source": [
        "\n",
        "df= pd.read_csv('data.csv')\n",
        "need_sheets =math.ceil(sum(df['Width']*df['Height']*df['Qty'])/(2440*1220))\n",
        "rectangles=[]\n",
        "saw_width=10\n",
        "for ind in df.index:\n",
        "  for i in range(df['Qty'][ind]):\n",
        "    rectangles.append((df['Width'][ind]+saw_width,df['Height'][ind]+saw_width,ind))\n",
        "print(rectangles)\n",
        "# rectangles = [(200, 400), (200, 400), (200, 400),(200, 100),(200, 100),(200, 100),(200, 100),(200, 100),(200,150),(200,150),(200,150),(200,150)]\n",
        "bins=[]\n",
        "for i in range(need_sheets):\n",
        "  bins.append((2440,1220))\n",
        "\n",
        "packer = newPacker()\n",
        "# Add the rectangles to packing queue\n",
        "for r in rectangles:\n",
        "\tpacker.add_rect(*r)\n",
        "# Add the bins where the rectangles will be placed\n",
        "for b in bins:\n",
        "\tpacker.add_bin(*b)\n",
        "\n",
        "# Start packing\n",
        "packer.pack()\n",
        "all_rects = packer.rect_list()\n"
      ],
      "metadata": {
        "colab": {
          "base_uri": "https://localhost:8080/"
        },
        "id": "q5vcyvUhyyZ-",
        "outputId": "86f9ca86-46af-42a5-b28d-52c3deb07fad"
      },
      "execution_count": null,
      "outputs": [
        {
          "output_type": "stream",
          "name": "stdout",
          "text": [
            "[(210, 410, 0), (210, 410, 0), (210, 410, 0), (210, 160, 1), (210, 160, 1), (210, 160, 1), (210, 160, 1), (210, 110, 2), (210, 110, 2), (210, 110, 2), (210, 110, 2), (210, 110, 2), (410, 210, 3), (510, 510, 4), (510, 510, 4), (510, 510, 4), (510, 510, 4), (510, 510, 4), (510, 510, 4), (510, 510, 4), (510, 510, 4), (510, 510, 4), (510, 510, 4), (510, 510, 4), (510, 510, 4)]\n"
          ]
        }
      ]
    },
    {
      "cell_type": "code",
      "source": [
        "for abin in packer:\n",
        "  print(abin.bid) # Bin id if it has one\n",
        "  for rect in abin:\n",
        "    print(rect)"
      ],
      "metadata": {
        "colab": {
          "base_uri": "https://localhost:8080/"
        },
        "id": "WiEbLRS-avl_",
        "outputId": "bcd29630-fd1d-4fb2-90b6-b03bf17a9878"
      },
      "execution_count": null,
      "outputs": [
        {
          "output_type": "stream",
          "name": "stdout",
          "text": [
            "None\n",
            "R(0, 0, 510, 510)\n",
            "R(0, 510, 510, 510)\n",
            "R(510, 0, 510, 510)\n",
            "R(510, 510, 510, 510)\n",
            "R(1020, 0, 510, 510)\n",
            "R(1020, 510, 510, 510)\n",
            "R(1530, 0, 510, 510)\n",
            "R(1530, 510, 510, 510)\n",
            "R(2040, 0, 210, 410)\n",
            "R(2040, 410, 210, 410)\n",
            "R(2250, 0, 160, 210)\n",
            "R(2250, 210, 160, 210)\n",
            "R(2250, 420, 160, 210)\n",
            "R(2250, 630, 160, 210)\n",
            "R(2040, 820, 210, 110)\n",
            "R(2250, 840, 110, 210)\n",
            "R(2040, 930, 210, 110)\n",
            "R(0, 1050, 210, 110)\n",
            "R(210, 1050, 210, 110)\n",
            "None\n",
            "R(0, 0, 510, 510)\n",
            "R(0, 510, 510, 510)\n",
            "R(510, 0, 510, 510)\n",
            "R(510, 510, 510, 510)\n",
            "R(1020, 0, 210, 410)\n",
            "R(1020, 410, 210, 410)\n"
          ]
        }
      ]
    },
    {
      "cell_type": "code",
      "source": [
        "all_rects = packer.rect_list()\n",
        "# print(all_rects)\n",
        "for rect in all_rects:\n",
        "  print(rect)\n",
        "\t# b, x, y, w, h, rid = rect\n",
        "\n"
      ],
      "metadata": {
        "colab": {
          "base_uri": "https://localhost:8080/"
        },
        "id": "-XmVGBtEnBah",
        "outputId": "9451d107-6c34-4cf5-9e61-cdbe0300f2fc"
      },
      "execution_count": null,
      "outputs": [
        {
          "output_type": "stream",
          "name": "stdout",
          "text": [
            "(0, 0, 0, 510, 510, 4)\n",
            "(0, 0, 510, 510, 510, 4)\n",
            "(0, 510, 0, 510, 510, 4)\n",
            "(0, 510, 510, 510, 510, 4)\n",
            "(0, 1020, 0, 510, 510, 4)\n",
            "(0, 1020, 510, 510, 510, 4)\n",
            "(0, 1530, 0, 510, 510, 4)\n",
            "(0, 1530, 510, 510, 510, 4)\n",
            "(0, 2040, 0, 210, 410, 0)\n",
            "(0, 2040, 410, 210, 410, 0)\n",
            "(0, 2250, 0, 160, 210, 1)\n",
            "(0, 2250, 210, 160, 210, 1)\n",
            "(0, 2250, 420, 160, 210, 1)\n",
            "(0, 2250, 630, 160, 210, 1)\n",
            "(0, 2040, 820, 210, 110, 2)\n",
            "(0, 2250, 840, 110, 210, 2)\n",
            "(0, 2040, 930, 210, 110, 2)\n",
            "(0, 0, 1050, 210, 110, 2)\n",
            "(0, 210, 1050, 210, 110, 2)\n",
            "(1, 0, 0, 510, 510, 4)\n",
            "(1, 0, 510, 510, 510, 4)\n",
            "(1, 510, 0, 510, 510, 4)\n",
            "(1, 510, 510, 510, 510, 4)\n",
            "(1, 1020, 0, 210, 410, 0)\n",
            "(1, 1020, 410, 210, 410, 3)\n"
          ]
        }
      ]
    },
    {
      "cell_type": "code",
      "source": [
        "\n",
        "\n",
        "# Create a new DXF drawing\n",
        "doc = ezdxf.new('R2010')\n",
        "doc.layers.add(name=\"MyLines\",color=3)\n",
        "\n",
        "# Add a new block for the rectangle\n",
        "\n",
        "# Define the rectangle dimensions from a CSV file\n",
        "# rectangles = [(10, 20), (15, 25), (30, 40)]\n",
        "\n",
        "rect_entity=[]\n",
        "blk = doc.blocks.new(name='RECTANGLE')\n",
        "temp=blk.add_lwpolyline([(0, 0), (2440, 0), (2440, 1220), (0, 1220), (0, 0)])\n",
        "rect_entity.append(blk)\n",
        "temp.close()\n",
        "\n",
        "# Add the rectangle entities to the block\n",
        "for i,rect in enumerate(all_rects):\n",
        "    b, x, y, w, h, rid = rect\n",
        "    # rect_width, rect_height = rect\n",
        "    blk = doc.blocks.new(name='RECTANGLE'+str(i))\n",
        "    # temp=blk.add_lwpolyline([(0, 0), (w, 0), (w, h), (0, h), (0, 0)])\n",
        "    temp=blk.add_lwpolyline([(0, 0), (w-saw_width, 0), (w-saw_width, h-saw_width), (0, h-saw_width), (0, 0)])\n",
        "    rect_entity.append(blk)\n",
        "    temp.close()\n",
        "\n",
        "\n",
        "# Insert the block into the drawing\n"
      ],
      "metadata": {
        "id": "KuRQOaoabR04"
      },
      "execution_count": null,
      "outputs": []
    },
    {
      "cell_type": "code",
      "source": [
        "msp = doc.modelspace()\n",
        "\n",
        "\n",
        "for i,rect in enumerate(all_rects):\n",
        "    b, x, y, w, h, rid = rect\n",
        "    if(b>0):\n",
        "      spacing=10\n",
        "    else:\n",
        "      spacing=0\n",
        "    # rect_width,rect_height=rect\n",
        "    # insert_point = (x+b*2440+spacing, y)\n",
        "    insert_point = (x+b*2440+spacing+saw_width, y+saw_width)\n",
        "    msp.add_blockref('RECTANGLE'+str(i), insert_point, dxfattribs={'xscale': 1, 'yscale': 1})\n",
        "    msp.add_text(str(rid),height=0.3*h,dxfattribs={\"layer\":\"Mylines\"}).set_placement((insert_point[0]+0.5*w,insert_point[1]+0.5*h))\n",
        "    # msp.add_linear_dim(base=(x_pos/2,2),p1=(x_pos,0),p2=(x_pos+rect_width,0),dxfattribs={\"layer\": \"MyLines\"}).render()\n",
        "    # x_pos = x_pos+rect_width+3\n"
      ],
      "metadata": {
        "id": "2WGvf0MKbR33"
      },
      "execution_count": null,
      "outputs": []
    },
    {
      "cell_type": "code",
      "source": [
        "edge_trim=False\n",
        "if(not edge_trim):\n",
        "  edge_width=saw_width\n",
        "else:\n",
        "  edge_width=0\n",
        "for n in range(len(packer)):\n",
        "  if(n>0):\n",
        "    spacing=10\n",
        "  else:\n",
        "    spacing=0\n",
        "  msp.add_blockref('RECTANGLE', (2440*n+edge_width+spacing,0+edge_width), dxfattribs={'xscale': 1, 'yscale': 1})\n",
        "# Save the drawing\n",
        "doc.saveas('demo.dxf')\n",
        "print(\"Total Number of Sheets used: \",len(packer))\n",
        "print(\"Total Number of Panels required: \",sum(df['Qty']))\n",
        "yield_per= (sum(df['Width']*df['Height']*df['Qty']))/(len(packer)*2440*1220)\n",
        "print(\"Yield % : \", (yield_per*100))"
      ],
      "metadata": {
        "colab": {
          "base_uri": "https://localhost:8080/"
        },
        "id": "x1HsFtPwvjUa",
        "outputId": "0cfbd7f6-ce32-4c66-b4db-c96d1437a408"
      },
      "execution_count": null,
      "outputs": [
        {
          "output_type": "stream",
          "name": "stdout",
          "text": [
            "Total Number of Sheets used:  2\n",
            "Total Number of Panels required:  25\n",
            "Yield % :  59.45982262832572\n"
          ]
        }
      ]
    },
    {
      "cell_type": "code",
      "source": [
        "import sys\n",
        "import matplotlib.pyplot as plt\n",
        "from ezdxf import recover\n",
        "from ezdxf.addons.drawing import RenderContext, Frontend\n",
        "from ezdxf.addons.drawing.matplotlib import MatplotlibBackend\n",
        "\n",
        "# Safe loading procedure (requires ezdxf v0.14):\n",
        "try:\n",
        "    doc, auditor = recover.readfile('demo.dxf')\n",
        "except IOError:\n",
        "    print(f'Not a DXF file or a generic I/O error.')\n",
        "    sys.exit(1)\n",
        "except ezdxf.DXFStructureError:\n",
        "    print(f'Invalid or corrupted DXF file.')\n",
        "    sys.exit(2)\n",
        "\n",
        "# The auditor.errors attribute stores severe errors,\n",
        "# which may raise exceptions when rendering.\n",
        "if not auditor.has_errors:\n",
        "    fig = plt.figure()\n",
        "    ax = fig.add_axes([0, 0, 1, 1])\n",
        "    ctx = RenderContext(doc)\n",
        "    out = MatplotlibBackend(ax)\n",
        "    Frontend(ctx, out).draw_layout(doc.modelspace(), finalize=True)\n",
        "    fig.savefig('your.png', dpi=300)"
      ],
      "metadata": {
        "colab": {
          "base_uri": "https://localhost:8080/",
          "height": 318
        },
        "id": "_4nfURug3fJQ",
        "outputId": "72acc432-141f-4b33-84b9-49ba9bb60946"
      },
      "execution_count": null,
      "outputs": [
        {
          "output_type": "stream",
          "name": "stderr",
          "text": [
            "WARNING:matplotlib.font_manager:findfont: Font family 'Txt' not found.\n",
            "WARNING:matplotlib.font_manager:findfont: Font family 'Txt' not found.\n",
            "WARNING:matplotlib.font_manager:findfont: Font family 'Txt' not found.\n",
            "WARNING:matplotlib.font_manager:findfont: Font family 'Txt' not found.\n",
            "WARNING:matplotlib.font_manager:findfont: Font family 'Txt' not found.\n",
            "WARNING:matplotlib.font_manager:findfont: Font family 'Txt' not found.\n",
            "WARNING:matplotlib.font_manager:findfont: Font family 'Txt' not found.\n",
            "WARNING:matplotlib.font_manager:findfont: Font family 'Txt' not found.\n"
          ]
        },
        {
          "output_type": "display_data",
          "data": {
            "text/plain": [
              "<Figure size 1600x399.182 with 1 Axes>"
            ],
            "image/png": "[encoded data removed]"
          },
          "metadata": {}
        }
      ]
    }
  ]
}